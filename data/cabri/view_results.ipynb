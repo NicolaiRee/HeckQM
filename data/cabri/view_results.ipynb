{
 "cells": [
  {
   "cell_type": "code",
   "execution_count": 1,
   "metadata": {},
   "outputs": [],
   "source": [
    "import numpy as np\n",
    "import pandas as pd\n",
    "from operator import itemgetter\n",
    "\n",
    "from rdkit import Chem\n",
    "from rdkit.Chem import AllChem\n",
    "\n",
    "from IPython.core.display import display\n",
    "from IPython.display import SVG\n",
    "from rdkit.Chem.Draw import IPythonConsole\n",
    "IPythonConsole.ipython_useSVG = True  # Change output to SVG\n",
    "IPythonConsole.drawOptions.addAtomIndices = False\n",
    "IPythonConsole.drawOptions.minFontSize = 18\n",
    "IPythonConsole.drawOptions.prepareMolsBeforeDrawing = True\n",
    "from rdkit.Chem.Draw.MolDrawing import MolDrawing\n",
    "MolDrawing.atomLabelFontSize=18"
   ]
  },
  {
   "cell_type": "code",
   "execution_count": 2,
   "metadata": {},
   "outputs": [
    {
     "data": {
      "text/html": [
       "<div>\n",
       "<style scoped>\n",
       "    .dataframe tbody tr th:only-of-type {\n",
       "        vertical-align: middle;\n",
       "    }\n",
       "\n",
       "    .dataframe tbody tr th {\n",
       "        vertical-align: top;\n",
       "    }\n",
       "\n",
       "    .dataframe thead th {\n",
       "        text-align: right;\n",
       "    }\n",
       "</style>\n",
       "<table border=\"1\" class=\"dataframe\">\n",
       "  <thead>\n",
       "    <tr style=\"text-align: right;\">\n",
       "      <th></th>\n",
       "      <th>Reaction ID</th>\n",
       "      <th>Reactant(s)</th>\n",
       "      <th>energies_neu</th>\n",
       "      <th>complexes_neu</th>\n",
       "      <th>products_neu</th>\n",
       "      <th>legends_neu</th>\n",
       "      <th>energies_cat</th>\n",
       "      <th>complexes_cat</th>\n",
       "      <th>products_cat</th>\n",
       "      <th>legends_cat</th>\n",
       "      <th>xtb_one_all_names_neu</th>\n",
       "      <th>xtb_one_all_products_neu</th>\n",
       "      <th>xtb_energies_neu</th>\n",
       "      <th>one_energies_neu</th>\n",
       "      <th>all_energies_neu</th>\n",
       "      <th>xtb_one_all_names_cat</th>\n",
       "      <th>xtb_one_all_products_cat</th>\n",
       "      <th>xtb_energies_cat</th>\n",
       "      <th>one_energies_cat</th>\n",
       "      <th>all_energies_cat</th>\n",
       "    </tr>\n",
       "  </thead>\n",
       "  <tbody>\n",
       "    <tr>\n",
       "      <th>15</th>\n",
       "      <td>3d</td>\n",
       "      <td>[C=CCO, Ic1cccc2ccccc12]</td>\n",
       "      <td>[-5356668.567770743, -5356653.943741458, -5356...</td>\n",
       "      <td>[&lt;rdkit.Chem.rdchem.Mol object at 0x16b8a5b30&gt;...</td>\n",
       "      <td>[&lt;rdkit.Chem.rdchem.Mol object at 0x16bd3f900&gt;...</td>\n",
       "      <td>[0.00 kJ/mol [1], 14.62 kJ/mol [2], 35.87 kJ/m...</td>\n",
       "      <td>[-7294849.003023394, -7294804.481205683]</td>\n",
       "      <td>[&lt;rdkit.Chem.rdchem.Mol object at 0x16bd4b310&gt;...</td>\n",
       "      <td>[&lt;rdkit.Chem.rdchem.Mol object at 0x16bd51270&gt;...</td>\n",
       "      <td>[0.00 kJ/mol [5], 44.52 kJ/mol [6]]</td>\n",
       "      <td>[3d_4_0, 3d_3_0, 3d_2_0, 3d_1_0]</td>\n",
       "      <td>[&lt;rdkit.Chem.rdchem.Mol object at 0x16bd5e220&gt;...</td>\n",
       "      <td>[-251372.0053082109, -251384.1553524413, -2513...</td>\n",
       "      <td>[-5356604.632296126, -5356632.693631292, -5356...</td>\n",
       "      <td>[-5356619.439637219, -5356632.693631292, -5356...</td>\n",
       "      <td>[3d_5_0, 3d_6_0]</td>\n",
       "      <td>[&lt;rdkit.Chem.rdchem.Mol object at 0x16bd6a720&gt;...</td>\n",
       "      <td>[-368246.8518871679, -368249.78516886523]</td>\n",
       "      <td>[-7294849.003023394, -7294804.481205683]</td>\n",
       "      <td>[-7294849.003023394, -7294804.481205683]</td>\n",
       "    </tr>\n",
       "  </tbody>\n",
       "</table>\n",
       "</div>"
      ],
      "text/plain": [
       "   Reaction ID               Reactant(s)  \\\n",
       "15          3d  [C=CCO, Ic1cccc2ccccc12]   \n",
       "\n",
       "                                         energies_neu  \\\n",
       "15  [-5356668.567770743, -5356653.943741458, -5356...   \n",
       "\n",
       "                                        complexes_neu  \\\n",
       "15  [<rdkit.Chem.rdchem.Mol object at 0x16b8a5b30>...   \n",
       "\n",
       "                                         products_neu  \\\n",
       "15  [<rdkit.Chem.rdchem.Mol object at 0x16bd3f900>...   \n",
       "\n",
       "                                          legends_neu  \\\n",
       "15  [0.00 kJ/mol [1], 14.62 kJ/mol [2], 35.87 kJ/m...   \n",
       "\n",
       "                                energies_cat  \\\n",
       "15  [-7294849.003023394, -7294804.481205683]   \n",
       "\n",
       "                                        complexes_cat  \\\n",
       "15  [<rdkit.Chem.rdchem.Mol object at 0x16bd4b310>...   \n",
       "\n",
       "                                         products_cat  \\\n",
       "15  [<rdkit.Chem.rdchem.Mol object at 0x16bd51270>...   \n",
       "\n",
       "                            legends_cat             xtb_one_all_names_neu  \\\n",
       "15  [0.00 kJ/mol [5], 44.52 kJ/mol [6]]  [3d_4_0, 3d_3_0, 3d_2_0, 3d_1_0]   \n",
       "\n",
       "                             xtb_one_all_products_neu  \\\n",
       "15  [<rdkit.Chem.rdchem.Mol object at 0x16bd5e220>...   \n",
       "\n",
       "                                     xtb_energies_neu  \\\n",
       "15  [-251372.0053082109, -251384.1553524413, -2513...   \n",
       "\n",
       "                                     one_energies_neu  \\\n",
       "15  [-5356604.632296126, -5356632.693631292, -5356...   \n",
       "\n",
       "                                     all_energies_neu xtb_one_all_names_cat  \\\n",
       "15  [-5356619.439637219, -5356632.693631292, -5356...      [3d_5_0, 3d_6_0]   \n",
       "\n",
       "                             xtb_one_all_products_cat  \\\n",
       "15  [<rdkit.Chem.rdchem.Mol object at 0x16bd6a720>...   \n",
       "\n",
       "                             xtb_energies_cat  \\\n",
       "15  [-368246.8518871679, -368249.78516886523]   \n",
       "\n",
       "                            one_energies_cat  \\\n",
       "15  [-7294849.003023394, -7294804.481205683]   \n",
       "\n",
       "                            all_energies_cat  \n",
       "15  [-7294849.003023394, -7294804.481205683]  "
      ]
     },
     "execution_count": 2,
     "metadata": {},
     "output_type": "execute_result"
    }
   ],
   "source": [
    "df = pd.read_pickle('results.pkl')\n",
    "df[df['Reaction ID'] == '3d']"
   ]
  },
  {
   "cell_type": "code",
   "execution_count": 3,
   "metadata": {},
   "outputs": [
    {
     "name": "stdout",
     "output_type": "stream",
     "text": [
      "DFT (all) neutral pathway\n"
     ]
    },
    {
     "data": {
      "image/svg+xml": "<svg xmlns=\"http://www.w3.org/2000/svg\" xmlns:rdkit=\"http://www.rdkit.org/xml\" xmlns:xlink=\"http://www.w3.org/1999/xlink\" version=\"1.1\" baseProfile=\"full\" xml:space=\"preserve\" width=\"1200px\" height=\"300px\" viewBox=\"0 0 1200 300\">\n<!-- END OF HEADER -->\n<rect style=\"opacity:1.0;fill:#FFFFFF;stroke:none\" width=\"1200.0\" height=\"300.0\" x=\"0.0\" y=\"0.0\"> </rect>\n<rect style=\"opacity:1.0;fill:#FFFFFF;stroke:none\" width=\"1200.0\" height=\"300.0\" x=\"0.0\" y=\"0.0\"> </rect>\n<rect style=\"opacity:1.0;fill:#FFFFFF;stroke:none\" width=\"1200.0\" height=\"300.0\" x=\"0.0\" y=\"0.0\"> </rect>\n<path class=\"bond-0 atom-0 atom-1\" d=\"M 35.9,111.6 L 51.7,105.1\" style=\"fill:none;fill-rule:evenodd;stroke:#FF0000;stroke-width:2.0px;stroke-linecap:butt;stroke-linejoin:miter;stroke-opacity:1\"/>\n<path class=\"bond-0 atom-0 atom-1\" d=\"M 51.7,105.1 L 67.4,98.7\" style=\"fill:none;fill-rule:evenodd;stroke:#000000;stroke-width:2.0px;stroke-linecap:butt;stroke-linejoin:miter;stroke-opacity:1\"/>\n<path class=\"bond-1 atom-1 atom-2\" d=\"M 67.4,98.7 L 100.2,124.0\" style=\"fill:none;fill-rule:evenodd;stroke:#000000;stroke-width:2.0px;stroke-linecap:butt;stroke-linejoin:miter;stroke-opacity:1\"/>\n<path class=\"bond-2 atom-2 atom-3\" d=\"M 101.8,127.9 L 137.0,104.5\" style=\"fill:none;fill-rule:evenodd;stroke:#000000;stroke-width:2.0px;stroke-linecap:butt;stroke-linejoin:miter;stroke-opacity:1\"/>\n<path class=\"bond-2 atom-2 atom-3\" d=\"M 98.6,120.2 L 140.1,112.1\" style=\"fill:none;fill-rule:evenodd;stroke:#000000;stroke-width:2.0px;stroke-linecap:butt;stroke-linejoin:miter;stroke-opacity:1\"/>\n<path class=\"bond-3 atom-3 atom-4\" d=\"M 138.5,108.3 L 171.3,133.6\" style=\"fill:none;fill-rule:evenodd;stroke:#000000;stroke-width:2.0px;stroke-linecap:butt;stroke-linejoin:miter;stroke-opacity:1\"/>\n<path class=\"bond-4 atom-4 atom-5\" d=\"M 171.3,133.6 L 165.8,174.7\" style=\"fill:none;fill-rule:evenodd;stroke:#000000;stroke-width:2.0px;stroke-linecap:butt;stroke-linejoin:miter;stroke-opacity:1\"/>\n<path class=\"bond-4 atom-4 atom-5\" d=\"M 178.7,140.9 L 174.8,169.7\" style=\"fill:none;fill-rule:evenodd;stroke:#000000;stroke-width:2.0px;stroke-linecap:butt;stroke-linejoin:miter;stroke-opacity:1\"/>\n<path class=\"bond-13 atom-13 atom-4\" d=\"M 209.7,117.9 L 171.3,133.6\" style=\"fill:none;fill-rule:evenodd;stroke:#000000;stroke-width:2.0px;stroke-linecap:butt;stroke-linejoin:miter;stroke-opacity:1\"/>\n<path class=\"bond-5 atom-5 atom-6\" d=\"M 165.8,174.7 L 198.6,200.1\" style=\"fill:none;fill-rule:evenodd;stroke:#000000;stroke-width:2.0px;stroke-linecap:butt;stroke-linejoin:miter;stroke-opacity:1\"/>\n<path class=\"bond-6 atom-6 atom-7\" d=\"M 198.6,200.1 L 236.9,184.3\" style=\"fill:none;fill-rule:evenodd;stroke:#000000;stroke-width:2.0px;stroke-linecap:butt;stroke-linejoin:miter;stroke-opacity:1\"/>\n<path class=\"bond-6 atom-6 atom-7\" d=\"M 201.2,190.0 L 228.0,179.0\" style=\"fill:none;fill-rule:evenodd;stroke:#000000;stroke-width:2.0px;stroke-linecap:butt;stroke-linejoin:miter;stroke-opacity:1\"/>\n<path class=\"bond-7 atom-7 atom-8\" d=\"M 236.9,184.3 L 242.5,143.3\" style=\"fill:none;fill-rule:evenodd;stroke:#000000;stroke-width:2.0px;stroke-linecap:butt;stroke-linejoin:miter;stroke-opacity:1\"/>\n<path class=\"bond-8 atom-8 atom-9\" d=\"M 242.5,143.3 L 280.8,127.5\" style=\"fill:none;fill-rule:evenodd;stroke:#000000;stroke-width:2.0px;stroke-linecap:butt;stroke-linejoin:miter;stroke-opacity:1\"/>\n<path class=\"bond-8 atom-8 atom-9\" d=\"M 245.1,133.2 L 271.9,122.2\" style=\"fill:none;fill-rule:evenodd;stroke:#000000;stroke-width:2.0px;stroke-linecap:butt;stroke-linejoin:miter;stroke-opacity:1\"/>\n<path class=\"bond-14 atom-13 atom-8\" d=\"M 209.7,117.9 L 242.5,143.3\" style=\"fill:none;fill-rule:evenodd;stroke:#000000;stroke-width:2.0px;stroke-linecap:butt;stroke-linejoin:miter;stroke-opacity:1\"/>\n<path class=\"bond-9 atom-9 atom-10\" d=\"M 280.8,127.5 L 286.4,86.5\" style=\"fill:none;fill-rule:evenodd;stroke:#000000;stroke-width:2.0px;stroke-linecap:butt;stroke-linejoin:miter;stroke-opacity:1\"/>\n<path class=\"bond-10 atom-10 atom-11\" d=\"M 286.4,86.5 L 253.6,61.1\" style=\"fill:none;fill-rule:evenodd;stroke:#000000;stroke-width:2.0px;stroke-linecap:butt;stroke-linejoin:miter;stroke-opacity:1\"/>\n<path class=\"bond-10 atom-10 atom-11\" d=\"M 276.4,89.2 L 253.4,71.5\" style=\"fill:none;fill-rule:evenodd;stroke:#000000;stroke-width:2.0px;stroke-linecap:butt;stroke-linejoin:miter;stroke-opacity:1\"/>\n<path class=\"bond-11 atom-11 atom-12\" d=\"M 253.6,61.1 L 215.2,76.8\" style=\"fill:none;fill-rule:evenodd;stroke:#000000;stroke-width:2.0px;stroke-linecap:butt;stroke-linejoin:miter;stroke-opacity:1\"/>\n<path class=\"bond-12 atom-12 atom-13\" d=\"M 215.2,76.8 L 209.7,117.9\" style=\"fill:none;fill-rule:evenodd;stroke:#000000;stroke-width:2.0px;stroke-linecap:butt;stroke-linejoin:miter;stroke-opacity:1\"/>\n<path class=\"bond-12 atom-12 atom-13\" d=\"M 222.6,84.1 L 218.7,112.9\" style=\"fill:none;fill-rule:evenodd;stroke:#000000;stroke-width:2.0px;stroke-linecap:butt;stroke-linejoin:miter;stroke-opacity:1\"/>\n<path class=\"atom-0\" d=\"M 12.3 108.1 L 14.0 108.1 L 14.0 113.5 L 20.6 113.5 L 20.6 108.1 L 22.3 108.1 L 22.3 120.9 L 20.6 120.9 L 20.6 115.0 L 14.0 115.0 L 14.0 120.9 L 12.3 120.9 L 12.3 108.1 \" fill=\"#FF0000\"/>\n<path class=\"atom-0\" d=\"M 23.2 114.5 Q 23.2 111.4, 24.7 109.7 Q 26.2 108.0, 29.0 108.0 Q 31.9 108.0, 33.4 109.7 Q 34.9 111.4, 34.9 114.5 Q 34.9 117.6, 33.4 119.3 Q 31.8 121.1, 29.0 121.1 Q 26.2 121.1, 24.7 119.3 Q 23.2 117.6, 23.2 114.5 M 29.0 119.6 Q 31.0 119.6, 32.0 118.3 Q 33.1 117.0, 33.1 114.5 Q 33.1 112.0, 32.0 110.7 Q 31.0 109.4, 29.0 109.4 Q 27.1 109.4, 26.0 110.7 Q 25.0 111.9, 25.0 114.5 Q 25.0 117.0, 26.0 118.3 Q 27.1 119.6, 29.0 119.6 \" fill=\"#FF0000\"/>\n<path d=\"M 88.9 290.8 Q 86.8 290.8, 85.7 289.3 Q 84.7 287.8, 84.7 285.0 Q 84.7 282.3, 85.7 280.8 Q 86.8 279.3, 88.9 279.3 Q 91.0 279.3, 92.0 280.8 Q 93.0 282.3, 93.0 285.0 Q 93.0 287.8, 92.0 289.3 Q 90.9 290.8, 88.9 290.8 M 88.9 289.6 Q 90.1 289.6, 90.8 288.4 Q 91.4 287.3, 91.4 285.0 Q 91.4 282.8, 90.8 281.7 Q 90.1 280.5, 88.9 280.5 Q 87.7 280.5, 87.0 281.7 Q 86.3 282.8, 86.3 285.0 Q 86.3 287.3, 87.0 288.4 Q 87.7 289.6, 88.9 289.6 \" fill=\"#000000\"/>\n<path d=\"M 94.1 289.1 L 95.7 289.1 L 95.7 290.7 L 94.1 290.7 L 94.1 289.1 \" fill=\"#000000\"/>\n<path d=\"M 100.8 290.8 Q 98.7 290.8, 97.7 289.3 Q 96.6 287.8, 96.6 285.0 Q 96.6 282.3, 97.7 280.8 Q 98.7 279.3, 100.8 279.3 Q 102.9 279.3, 103.9 280.8 Q 104.9 282.3, 104.9 285.0 Q 104.9 287.8, 103.9 289.3 Q 102.9 290.8, 100.8 290.8 M 100.8 289.6 Q 102.0 289.6, 102.7 288.4 Q 103.3 287.3, 103.3 285.0 Q 103.3 282.8, 102.7 281.7 Q 102.0 280.5, 100.8 280.5 Q 99.6 280.5, 98.9 281.7 Q 98.2 282.8, 98.2 285.0 Q 98.2 287.3, 98.9 288.4 Q 99.6 289.6, 100.8 289.6 \" fill=\"#000000\"/>\n<path d=\"M 110.0 290.8 Q 108.0 290.8, 106.9 289.3 Q 105.9 287.8, 105.9 285.0 Q 105.9 282.3, 106.9 280.8 Q 107.9 279.3, 110.0 279.3 Q 112.1 279.3, 113.2 280.8 Q 114.2 282.3, 114.2 285.0 Q 114.2 287.8, 113.1 289.3 Q 112.1 290.8, 110.0 290.8 M 110.0 289.6 Q 111.3 289.6, 111.9 288.4 Q 112.6 287.3, 112.6 285.0 Q 112.6 282.8, 111.9 281.7 Q 111.3 280.5, 110.0 280.5 Q 108.8 280.5, 108.1 281.7 Q 107.5 282.8, 107.5 285.0 Q 107.5 287.3, 108.1 288.4 Q 108.8 289.6, 110.0 289.6 \" fill=\"#000000\"/>\n<path d=\"\" fill=\"#000000\"/>\n<path d=\"M 119.5 290.7 L 119.5 278.6 L 121.0 278.6 L 121.0 290.7 L 119.5 290.7 M 123.0 286.0 L 126.5 290.7 L 124.8 290.7 L 121.3 286.0 L 124.3 282.5 L 126.0 282.5 L 123.0 286.0 \" fill=\"#000000\"/>\n<path d=\"M 126.9 291.7 Q 126.9 291.8, 127.6 291.4 Q 128.3 291.0, 128.9 290.3 Q 129.4 289.6, 129.4 288.8 L 129.4 280.7 L 127.2 280.7 L 127.2 279.4 L 130.9 279.4 L 130.9 288.8 Q 130.9 290.1, 130.2 291.0 Q 129.4 291.9, 128.5 292.5 Q 127.6 293.0, 127.6 292.9 L 126.9 291.7 \" fill=\"#000000\"/>\n<path d=\"M 135.4 278.8 L 136.7 278.8 L 132.6 291.7 L 131.3 291.7 L 135.4 278.8 \" fill=\"#000000\"/>\n<path d=\"M 147.5 282.4 Q 148.9 282.4, 149.6 283.1 Q 150.3 283.8, 150.3 285.3 L 150.3 290.7 L 148.8 290.7 L 148.8 285.4 Q 148.8 284.4, 148.4 284.0 Q 148.1 283.5, 147.2 283.5 Q 146.5 283.5, 145.9 283.9 Q 145.3 284.2, 144.9 284.8 Q 144.9 285.0, 144.9 285.3 L 144.9 290.7 L 143.4 290.7 L 143.4 285.4 Q 143.4 284.4, 143.0 284.0 Q 142.7 283.5, 141.8 283.5 Q 141.1 283.5, 140.5 283.9 Q 139.9 284.2, 139.5 284.8 L 139.5 290.7 L 138.0 290.7 L 138.0 282.5 L 139.3 282.5 L 139.4 283.6 Q 140.5 282.4, 142.1 282.4 Q 144.1 282.4, 144.7 283.8 Q 145.8 282.4, 147.5 282.4 \" fill=\"#000000\"/>\n<path d=\"M 151.1 286.6 Q 151.1 284.6, 152.1 283.5 Q 153.1 282.4, 155.0 282.4 Q 156.8 282.4, 157.8 283.5 Q 158.9 284.6, 158.9 286.6 Q 158.9 288.6, 157.8 289.7 Q 156.8 290.8, 155.0 290.8 Q 153.1 290.8, 152.1 289.7 Q 151.1 288.6, 151.1 286.6 M 152.6 286.6 Q 152.6 288.1, 153.2 288.9 Q 153.8 289.7, 155.0 289.7 Q 156.1 289.7, 156.7 288.9 Q 157.3 288.1, 157.3 286.6 Q 157.3 285.1, 156.7 284.3 Q 156.1 283.5, 155.0 283.5 Q 153.8 283.5, 153.2 284.3 Q 152.6 285.1, 152.6 286.6 \" fill=\"#000000\"/>\n<path d=\"M 160.2 278.6 L 161.7 278.6 L 161.7 290.7 L 160.2 290.7 L 160.2 278.6 \" fill=\"#000000\"/>\n<path d=\"\" fill=\"#000000\"/>\n<path d=\"M 167.1 278.3 L 170.5 278.3 L 170.5 279.5 L 168.4 279.5 L 168.4 292.7 L 170.5 292.7 L 170.5 293.8 L 167.1 293.8 L 167.1 278.3 \" fill=\"#000000\"/>\n<path d=\"M 176.6 284.8 Q 177.7 285.1, 178.2 285.8 Q 178.8 286.5, 178.8 287.6 Q 178.8 288.6, 178.3 289.3 Q 177.8 290.1, 176.9 290.5 Q 176.1 290.9, 174.9 290.9 Q 173.7 290.9, 172.8 290.5 Q 171.9 290.0, 171.2 289.2 L 172.1 288.2 Q 172.8 289.0, 173.4 289.3 Q 174.0 289.6, 174.9 289.6 Q 175.9 289.6, 176.5 289.1 Q 177.2 288.5, 177.2 287.6 Q 177.2 286.4, 176.5 285.9 Q 175.9 285.4, 174.5 285.4 L 173.7 285.4 L 173.7 284.3 L 174.4 284.3 Q 175.6 284.2, 176.3 283.7 Q 176.9 283.2, 176.9 282.2 Q 176.9 281.4, 176.4 281.0 Q 175.8 280.5, 174.9 280.5 Q 174.0 280.5, 173.4 280.9 Q 172.8 281.2, 172.4 282.1 L 171.3 281.5 Q 171.7 280.5, 172.6 279.9 Q 173.6 279.3, 174.9 279.3 Q 176.6 279.3, 177.6 280.0 Q 178.5 280.8, 178.5 282.2 Q 178.5 283.1, 178.0 283.7 Q 177.5 284.4, 176.6 284.8 \" fill=\"#000000\"/>\n<path d=\"M 187.0 278.6 L 187.0 290.7 L 185.8 290.7 L 185.6 289.7 Q 184.6 290.8, 183.1 290.8 Q 181.4 290.8, 180.5 289.8 Q 179.5 288.7, 179.5 286.7 Q 179.5 284.7, 180.6 283.5 Q 181.8 282.4, 183.7 282.4 Q 184.6 282.4, 185.5 282.6 L 185.5 278.6 L 187.0 278.6 M 183.2 289.7 Q 184.1 289.7, 184.6 289.2 Q 185.3 288.8, 185.5 287.9 L 185.5 283.8 Q 184.7 283.5, 183.7 283.5 Q 182.5 283.5, 181.8 284.4 Q 181.0 285.2, 181.0 286.7 Q 181.0 288.1, 181.6 288.9 Q 182.2 289.7, 183.2 289.7 \" fill=\"#000000\"/>\n<path d=\"M 195.1 291.5 L 195.1 292.8 L 187.0 292.8 L 187.0 291.5 L 195.1 291.5 \" fill=\"#000000\"/>\n<path d=\"M 196.6 289.4 L 199.1 289.4 L 199.1 281.0 L 196.4 281.8 L 196.0 280.9 L 199.5 279.3 L 200.6 279.5 L 200.6 289.4 L 202.8 289.4 L 202.8 290.7 L 196.6 290.7 L 196.6 289.4 \" fill=\"#000000\"/>\n<path d=\"M 206.6 278.3 L 206.6 293.8 L 203.2 293.8 L 203.2 292.7 L 205.2 292.7 L 205.2 279.5 L 203.2 279.5 L 203.2 278.3 L 206.6 278.3 \" fill=\"#000000\"/>\n<path class=\"bond-0 atom-0 atom-1\" d=\"M 396.3,159.5 L 429.2,134.4\" style=\"fill:none;fill-rule:evenodd;stroke:#000000;stroke-width:2.0px;stroke-linecap:butt;stroke-linejoin:miter;stroke-opacity:1\"/>\n<path class=\"bond-0 atom-0 atom-1\" d=\"M 391.2,152.9 L 424.2,127.8\" style=\"fill:none;fill-rule:evenodd;stroke:#000000;stroke-width:2.0px;stroke-linecap:butt;stroke-linejoin:miter;stroke-opacity:1\"/>\n<path class=\"bond-1 atom-1 atom-2\" d=\"M 426.7,131.1 L 421.5,90.0\" style=\"fill:none;fill-rule:evenodd;stroke:#000000;stroke-width:2.0px;stroke-linecap:butt;stroke-linejoin:miter;stroke-opacity:1\"/>\n<path class=\"bond-3 atom-1 atom-4\" d=\"M 426.7,131.1 L 465.0,147.1\" style=\"fill:none;fill-rule:evenodd;stroke:#000000;stroke-width:2.0px;stroke-linecap:butt;stroke-linejoin:miter;stroke-opacity:1\"/>\n<path class=\"bond-2 atom-2 atom-3\" d=\"M 421.5,90.0 L 405.8,83.4\" style=\"fill:none;fill-rule:evenodd;stroke:#000000;stroke-width:2.0px;stroke-linecap:butt;stroke-linejoin:miter;stroke-opacity:1\"/>\n<path class=\"bond-2 atom-2 atom-3\" d=\"M 405.8,83.4 L 390.1,76.9\" style=\"fill:none;fill-rule:evenodd;stroke:#FF0000;stroke-width:2.0px;stroke-linecap:butt;stroke-linejoin:miter;stroke-opacity:1\"/>\n<path class=\"bond-4 atom-4 atom-5\" d=\"M 465.0,147.1 L 470.2,188.2\" style=\"fill:none;fill-rule:evenodd;stroke:#000000;stroke-width:2.0px;stroke-linecap:butt;stroke-linejoin:miter;stroke-opacity:1\"/>\n<path class=\"bond-4 atom-4 atom-5\" d=\"M 474.0,152.2 L 477.7,181.0\" style=\"fill:none;fill-rule:evenodd;stroke:#000000;stroke-width:2.0px;stroke-linecap:butt;stroke-linejoin:miter;stroke-opacity:1\"/>\n<path class=\"bond-13 atom-13 atom-4\" d=\"M 497.9,122.0 L 465.0,147.1\" style=\"fill:none;fill-rule:evenodd;stroke:#000000;stroke-width:2.0px;stroke-linecap:butt;stroke-linejoin:miter;stroke-opacity:1\"/>\n<path class=\"bond-5 atom-5 atom-6\" d=\"M 470.2,188.2 L 508.5,204.2\" style=\"fill:none;fill-rule:evenodd;stroke:#000000;stroke-width:2.0px;stroke-linecap:butt;stroke-linejoin:miter;stroke-opacity:1\"/>\n<path class=\"bond-6 atom-6 atom-7\" d=\"M 508.5,204.2 L 541.4,179.1\" style=\"fill:none;fill-rule:evenodd;stroke:#000000;stroke-width:2.0px;stroke-linecap:butt;stroke-linejoin:miter;stroke-opacity:1\"/>\n<path class=\"bond-6 atom-6 atom-7\" d=\"M 508.4,193.9 L 531.5,176.3\" style=\"fill:none;fill-rule:evenodd;stroke:#000000;stroke-width:2.0px;stroke-linecap:butt;stroke-linejoin:miter;stroke-opacity:1\"/>\n<path class=\"bond-7 atom-7 atom-8\" d=\"M 541.4,179.1 L 536.2,138.0\" style=\"fill:none;fill-rule:evenodd;stroke:#000000;stroke-width:2.0px;stroke-linecap:butt;stroke-linejoin:miter;stroke-opacity:1\"/>\n<path class=\"bond-8 atom-8 atom-9\" d=\"M 536.2,138.0 L 569.2,112.9\" style=\"fill:none;fill-rule:evenodd;stroke:#000000;stroke-width:2.0px;stroke-linecap:butt;stroke-linejoin:miter;stroke-opacity:1\"/>\n<path class=\"bond-8 atom-8 atom-9\" d=\"M 536.1,127.6 L 559.2,110.1\" style=\"fill:none;fill-rule:evenodd;stroke:#000000;stroke-width:2.0px;stroke-linecap:butt;stroke-linejoin:miter;stroke-opacity:1\"/>\n<path class=\"bond-14 atom-13 atom-8\" d=\"M 497.9,122.0 L 536.2,138.0\" style=\"fill:none;fill-rule:evenodd;stroke:#000000;stroke-width:2.0px;stroke-linecap:butt;stroke-linejoin:miter;stroke-opacity:1\"/>\n<path class=\"bond-9 atom-9 atom-10\" d=\"M 569.2,112.9 L 563.9,71.8\" style=\"fill:none;fill-rule:evenodd;stroke:#000000;stroke-width:2.0px;stroke-linecap:butt;stroke-linejoin:miter;stroke-opacity:1\"/>\n<path class=\"bond-10 atom-10 atom-11\" d=\"M 563.9,71.8 L 525.7,55.8\" style=\"fill:none;fill-rule:evenodd;stroke:#000000;stroke-width:2.0px;stroke-linecap:butt;stroke-linejoin:miter;stroke-opacity:1\"/>\n<path class=\"bond-10 atom-10 atom-11\" d=\"M 555.0,77.0 L 528.2,65.8\" style=\"fill:none;fill-rule:evenodd;stroke:#000000;stroke-width:2.0px;stroke-linecap:butt;stroke-linejoin:miter;stroke-opacity:1\"/>\n<path class=\"bond-11 atom-11 atom-12\" d=\"M 525.7,55.8 L 492.7,80.9\" style=\"fill:none;fill-rule:evenodd;stroke:#000000;stroke-width:2.0px;stroke-linecap:butt;stroke-linejoin:miter;stroke-opacity:1\"/>\n<path class=\"bond-12 atom-12 atom-13\" d=\"M 492.7,80.9 L 497.9,122.0\" style=\"fill:none;fill-rule:evenodd;stroke:#000000;stroke-width:2.0px;stroke-linecap:butt;stroke-linejoin:miter;stroke-opacity:1\"/>\n<path class=\"bond-12 atom-12 atom-13\" d=\"M 501.7,86.0 L 505.4,114.8\" style=\"fill:none;fill-rule:evenodd;stroke:#000000;stroke-width:2.0px;stroke-linecap:butt;stroke-linejoin:miter;stroke-opacity:1\"/>\n<path class=\"atom-3\" d=\"M 366.5 67.7 L 368.2 67.7 L 368.2 73.1 L 374.8 73.1 L 374.8 67.7 L 376.5 67.7 L 376.5 80.4 L 374.8 80.4 L 374.8 74.6 L 368.2 74.6 L 368.2 80.4 L 366.5 80.4 L 366.5 67.7 \" fill=\"#FF0000\"/>\n<path class=\"atom-3\" d=\"M 377.4 74.0 Q 377.4 71.0, 378.9 69.3 Q 380.4 67.5, 383.2 67.5 Q 386.1 67.5, 387.6 69.3 Q 389.1 71.0, 389.1 74.0 Q 389.1 77.1, 387.6 78.9 Q 386.0 80.6, 383.2 80.6 Q 380.4 80.6, 378.9 78.9 Q 377.4 77.1, 377.4 74.0 M 383.2 79.2 Q 385.2 79.2, 386.2 77.9 Q 387.3 76.6, 387.3 74.0 Q 387.3 71.5, 386.2 70.3 Q 385.2 69.0, 383.2 69.0 Q 381.3 69.0, 380.2 70.2 Q 379.2 71.5, 379.2 74.0 Q 379.2 76.6, 380.2 77.9 Q 381.3 79.2, 383.2 79.2 \" fill=\"#FF0000\"/>\n<path d=\"M 382.0 289.4 L 384.5 289.4 L 384.5 281.0 L 381.7 281.8 L 381.4 280.9 L 384.8 279.3 L 386.0 279.5 L 386.0 289.4 L 388.2 289.4 L 388.2 290.7 L 382.0 290.7 L 382.0 289.4 \" fill=\"#000000\"/>\n<path d=\"M 396.0 286.8 L 397.4 286.8 L 397.4 288.1 L 396.0 288.1 L 396.0 290.7 L 394.5 290.7 L 394.5 288.1 L 388.7 288.1 L 388.7 287.1 L 393.6 279.4 L 396.0 279.4 L 396.0 286.8 M 390.5 286.8 L 394.5 286.8 L 394.5 280.4 L 390.5 286.8 \" fill=\"#000000\"/>\n<path d=\"M 398.4 289.1 L 400.0 289.1 L 400.0 290.7 L 398.4 290.7 L 398.4 289.1 \" fill=\"#000000\"/>\n<path d=\"M 405.6 283.6 Q 406.6 283.6, 407.3 284.1 Q 408.1 284.5, 408.6 285.3 Q 409.0 286.1, 409.0 287.1 Q 409.0 288.2, 408.5 289.0 Q 408.0 289.9, 407.1 290.4 Q 406.3 290.8, 405.2 290.8 Q 403.2 290.8, 402.1 289.5 Q 401.1 288.1, 401.1 285.4 Q 401.1 282.4, 402.4 280.8 Q 403.6 279.3, 406.1 279.3 Q 406.8 279.3, 407.4 279.4 Q 408.0 279.6, 408.5 279.9 L 407.9 281.0 Q 407.1 280.5, 406.1 280.5 Q 404.5 280.5, 403.7 281.6 Q 402.8 282.6, 402.7 284.7 Q 403.3 284.2, 404.0 283.9 Q 404.8 283.6, 405.6 283.6 M 405.2 289.5 Q 405.8 289.5, 406.3 289.2 Q 406.8 288.9, 407.1 288.3 Q 407.4 287.8, 407.4 287.1 Q 407.4 286.1, 406.8 285.5 Q 406.3 284.9, 405.3 284.9 Q 404.6 284.9, 403.9 285.2 Q 403.2 285.5, 402.7 286.0 Q 402.8 287.8, 403.4 288.7 Q 404.0 289.5, 405.2 289.5 \" fill=\"#000000\"/>\n<path d=\"M 409.8 281.5 Q 410.2 280.5, 411.2 279.9 Q 412.2 279.3, 413.6 279.3 Q 415.3 279.3, 416.3 280.2 Q 417.2 281.1, 417.2 282.8 Q 417.2 284.4, 416.0 286.0 Q 414.7 287.6, 412.2 289.4 L 417.4 289.4 L 417.4 290.7 L 409.8 290.7 L 409.8 289.6 Q 411.9 288.1, 413.1 287.0 Q 414.4 285.9, 415.0 284.9 Q 415.6 283.9, 415.6 282.8 Q 415.6 281.8, 415.1 281.2 Q 414.5 280.5, 413.6 280.5 Q 412.7 280.5, 412.1 280.9 Q 411.5 281.3, 411.0 282.1 L 409.8 281.5 \" fill=\"#000000\"/>\n<path d=\"\" fill=\"#000000\"/>\n<path d=\"M 422.8 290.7 L 422.8 278.6 L 424.3 278.6 L 424.3 290.7 L 422.8 290.7 M 426.3 286.0 L 429.8 290.7 L 428.0 290.7 L 424.5 286.0 L 427.5 282.5 L 429.2 282.5 L 426.3 286.0 \" fill=\"#000000\"/>\n<path d=\"M 430.1 291.7 Q 430.1 291.8, 430.8 291.4 Q 431.5 291.0, 432.1 290.3 Q 432.7 289.6, 432.7 288.8 L 432.7 280.7 L 430.4 280.7 L 430.4 279.4 L 434.2 279.4 L 434.2 288.8 Q 434.2 290.1, 433.4 291.0 Q 432.7 291.9, 431.7 292.5 Q 430.8 293.0, 430.8 292.9 L 430.1 291.7 \" fill=\"#000000\"/>\n<path d=\"M 438.6 278.8 L 439.9 278.8 L 435.8 291.7 L 434.5 291.7 L 438.6 278.8 \" fill=\"#000000\"/>\n<path d=\"M 450.8 282.4 Q 452.2 282.4, 452.9 283.1 Q 453.6 283.8, 453.6 285.3 L 453.6 290.7 L 452.1 290.7 L 452.1 285.4 Q 452.1 284.4, 451.7 284.0 Q 451.3 283.5, 450.5 283.5 Q 449.8 283.5, 449.1 283.9 Q 448.5 284.2, 448.2 284.8 Q 448.2 285.0, 448.2 285.3 L 448.2 290.7 L 446.7 290.7 L 446.7 285.4 Q 446.7 284.4, 446.3 284.0 Q 445.9 283.5, 445.1 283.5 Q 444.4 283.5, 443.8 283.9 Q 443.1 284.2, 442.8 284.8 L 442.8 290.7 L 441.3 290.7 L 441.3 282.5 L 442.5 282.5 L 442.7 283.6 Q 443.7 282.4, 445.4 282.4 Q 447.3 282.4, 447.9 283.8 Q 449.0 282.4, 450.8 282.4 \" fill=\"#000000\"/>\n<path d=\"M 454.3 286.6 Q 454.3 284.6, 455.3 283.5 Q 456.3 282.4, 458.2 282.4 Q 460.1 282.4, 461.1 283.5 Q 462.1 284.6, 462.1 286.6 Q 462.1 288.6, 461.1 289.7 Q 460.1 290.8, 458.2 290.8 Q 456.3 290.8, 455.3 289.7 Q 454.3 288.6, 454.3 286.6 M 455.8 286.6 Q 455.8 288.1, 456.4 288.9 Q 457.1 289.7, 458.2 289.7 Q 459.3 289.7, 459.9 288.9 Q 460.6 288.1, 460.6 286.6 Q 460.6 285.1, 459.9 284.3 Q 459.3 283.5, 458.2 283.5 Q 457.1 283.5, 456.4 284.3 Q 455.8 285.1, 455.8 286.6 \" fill=\"#000000\"/>\n<path d=\"M 463.5 278.6 L 465.0 278.6 L 465.0 290.7 L 463.5 290.7 L 463.5 278.6 \" fill=\"#000000\"/>\n<path d=\"\" fill=\"#000000\"/>\n<path d=\"M 470.3 278.3 L 473.7 278.3 L 473.7 279.5 L 471.7 279.5 L 471.7 292.7 L 473.7 292.7 L 473.7 293.8 L 470.3 293.8 L 470.3 278.3 \" fill=\"#000000\"/>\n<path d=\"M 479.8 284.8 Q 480.9 285.1, 481.5 285.8 Q 482.0 286.5, 482.0 287.6 Q 482.0 288.6, 481.5 289.3 Q 481.1 290.1, 480.2 290.5 Q 479.3 290.9, 478.1 290.9 Q 476.9 290.9, 476.0 290.5 Q 475.1 290.0, 474.4 289.2 L 475.3 288.2 Q 476.0 289.0, 476.6 289.3 Q 477.2 289.6, 478.1 289.6 Q 479.2 289.6, 479.8 289.1 Q 480.4 288.5, 480.4 287.6 Q 480.4 286.4, 479.8 285.9 Q 479.1 285.4, 477.7 285.4 L 476.9 285.4 L 476.9 284.3 L 477.6 284.3 Q 478.9 284.2, 479.5 283.7 Q 480.2 283.2, 480.2 282.2 Q 480.2 281.4, 479.6 281.0 Q 479.1 280.5, 478.2 280.5 Q 477.2 280.5, 476.6 280.9 Q 476.0 281.2, 475.6 282.1 L 474.5 281.5 Q 474.9 280.5, 475.9 279.9 Q 476.8 279.3, 478.2 279.3 Q 479.8 279.3, 480.8 280.0 Q 481.8 280.8, 481.8 282.2 Q 481.8 283.1, 481.3 283.7 Q 480.8 284.4, 479.8 284.8 \" fill=\"#000000\"/>\n<path d=\"M 490.2 278.6 L 490.2 290.7 L 489.0 290.7 L 488.8 289.7 Q 487.9 290.8, 486.4 290.8 Q 484.7 290.8, 483.7 289.8 Q 482.7 288.7, 482.7 286.7 Q 482.7 284.7, 483.9 283.5 Q 485.0 282.4, 487.0 282.4 Q 487.8 282.4, 488.7 282.6 L 488.7 278.6 L 490.2 278.6 M 486.5 289.7 Q 487.3 289.7, 487.9 289.2 Q 488.5 288.8, 488.7 287.9 L 488.7 283.8 Q 487.9 283.5, 487.0 283.5 Q 485.7 283.5, 485.0 284.4 Q 484.3 285.2, 484.3 286.7 Q 484.3 288.1, 484.8 288.9 Q 485.4 289.7, 486.5 289.7 \" fill=\"#000000\"/>\n<path d=\"M 498.4 291.5 L 498.4 292.8 L 490.2 292.8 L 490.2 291.5 L 498.4 291.5 \" fill=\"#000000\"/>\n<path d=\"M 499.2 281.5 Q 499.6 280.5, 500.6 279.9 Q 501.6 279.3, 503.0 279.3 Q 504.7 279.3, 505.7 280.2 Q 506.6 281.1, 506.6 282.8 Q 506.6 284.4, 505.4 286.0 Q 504.1 287.6, 501.6 289.4 L 506.8 289.4 L 506.8 290.7 L 499.2 290.7 L 499.2 289.6 Q 501.3 288.1, 502.5 287.0 Q 503.8 285.9, 504.4 284.9 Q 505.0 283.9, 505.0 282.8 Q 505.0 281.8, 504.5 281.2 Q 503.9 280.5, 503.0 280.5 Q 502.1 280.5, 501.5 280.9 Q 500.9 281.3, 500.4 282.1 L 499.2 281.5 \" fill=\"#000000\"/>\n<path d=\"M 510.5 278.3 L 510.5 293.8 L 507.1 293.8 L 507.1 292.7 L 509.2 292.7 L 509.2 279.5 L 507.1 279.5 L 507.1 278.3 L 510.5 278.3 \" fill=\"#000000\"/>\n</svg>",
      "text/plain": [
       "<IPython.core.display.SVG object>"
      ]
     },
     "metadata": {},
     "output_type": "display_data"
    },
    {
     "name": "stdout",
     "output_type": "stream",
     "text": [
      "DFT (all) cationic pathway\n"
     ]
    },
    {
     "data": {
      "image/svg+xml": "<svg xmlns=\"http://www.w3.org/2000/svg\" xmlns:rdkit=\"http://www.rdkit.org/xml\" xmlns:xlink=\"http://www.w3.org/1999/xlink\" version=\"1.1\" baseProfile=\"full\" xml:space=\"preserve\" width=\"1200px\" height=\"300px\" viewBox=\"0 0 1200 300\">\n<!-- END OF HEADER -->\n<rect style=\"opacity:1.0;fill:#FFFFFF;stroke:none\" width=\"1200.0\" height=\"300.0\" x=\"0.0\" y=\"0.0\"> </rect>\n<rect style=\"opacity:1.0;fill:#FFFFFF;stroke:none\" width=\"1200.0\" height=\"300.0\" x=\"0.0\" y=\"0.0\"> </rect>\n<rect style=\"opacity:1.0;fill:#FFFFFF;stroke:none\" width=\"1200.0\" height=\"300.0\" x=\"0.0\" y=\"0.0\"> </rect>\n<path class=\"bond-0 atom-0 atom-1\" d=\"M 96.3,159.5 L 129.2,134.4\" style=\"fill:none;fill-rule:evenodd;stroke:#000000;stroke-width:2.0px;stroke-linecap:butt;stroke-linejoin:miter;stroke-opacity:1\"/>\n<path class=\"bond-0 atom-0 atom-1\" d=\"M 91.2,152.9 L 124.2,127.8\" style=\"fill:none;fill-rule:evenodd;stroke:#000000;stroke-width:2.0px;stroke-linecap:butt;stroke-linejoin:miter;stroke-opacity:1\"/>\n<path class=\"bond-1 atom-1 atom-2\" d=\"M 126.7,131.1 L 121.5,90.0\" style=\"fill:none;fill-rule:evenodd;stroke:#000000;stroke-width:2.0px;stroke-linecap:butt;stroke-linejoin:miter;stroke-opacity:1\"/>\n<path class=\"bond-3 atom-1 atom-4\" d=\"M 126.7,131.1 L 165.0,147.1\" style=\"fill:none;fill-rule:evenodd;stroke:#000000;stroke-width:2.0px;stroke-linecap:butt;stroke-linejoin:miter;stroke-opacity:1\"/>\n<path class=\"bond-2 atom-2 atom-3\" d=\"M 121.5,90.0 L 105.8,83.4\" style=\"fill:none;fill-rule:evenodd;stroke:#000000;stroke-width:2.0px;stroke-linecap:butt;stroke-linejoin:miter;stroke-opacity:1\"/>\n<path class=\"bond-2 atom-2 atom-3\" d=\"M 105.8,83.4 L 90.1,76.9\" style=\"fill:none;fill-rule:evenodd;stroke:#FF0000;stroke-width:2.0px;stroke-linecap:butt;stroke-linejoin:miter;stroke-opacity:1\"/>\n<path class=\"bond-4 atom-4 atom-5\" d=\"M 165.0,147.1 L 170.2,188.2\" style=\"fill:none;fill-rule:evenodd;stroke:#000000;stroke-width:2.0px;stroke-linecap:butt;stroke-linejoin:miter;stroke-opacity:1\"/>\n<path class=\"bond-4 atom-4 atom-5\" d=\"M 174.0,152.2 L 177.7,181.0\" style=\"fill:none;fill-rule:evenodd;stroke:#000000;stroke-width:2.0px;stroke-linecap:butt;stroke-linejoin:miter;stroke-opacity:1\"/>\n<path class=\"bond-13 atom-13 atom-4\" d=\"M 197.9,122.0 L 165.0,147.1\" style=\"fill:none;fill-rule:evenodd;stroke:#000000;stroke-width:2.0px;stroke-linecap:butt;stroke-linejoin:miter;stroke-opacity:1\"/>\n<path class=\"bond-5 atom-5 atom-6\" d=\"M 170.2,188.2 L 208.5,204.2\" style=\"fill:none;fill-rule:evenodd;stroke:#000000;stroke-width:2.0px;stroke-linecap:butt;stroke-linejoin:miter;stroke-opacity:1\"/>\n<path class=\"bond-6 atom-6 atom-7\" d=\"M 208.5,204.2 L 241.4,179.1\" style=\"fill:none;fill-rule:evenodd;stroke:#000000;stroke-width:2.0px;stroke-linecap:butt;stroke-linejoin:miter;stroke-opacity:1\"/>\n<path class=\"bond-6 atom-6 atom-7\" d=\"M 208.4,193.9 L 231.5,176.3\" style=\"fill:none;fill-rule:evenodd;stroke:#000000;stroke-width:2.0px;stroke-linecap:butt;stroke-linejoin:miter;stroke-opacity:1\"/>\n<path class=\"bond-7 atom-7 atom-8\" d=\"M 241.4,179.1 L 236.2,138.0\" style=\"fill:none;fill-rule:evenodd;stroke:#000000;stroke-width:2.0px;stroke-linecap:butt;stroke-linejoin:miter;stroke-opacity:1\"/>\n<path class=\"bond-8 atom-8 atom-9\" d=\"M 236.2,138.0 L 269.2,112.9\" style=\"fill:none;fill-rule:evenodd;stroke:#000000;stroke-width:2.0px;stroke-linecap:butt;stroke-linejoin:miter;stroke-opacity:1\"/>\n<path class=\"bond-8 atom-8 atom-9\" d=\"M 236.1,127.6 L 259.2,110.1\" style=\"fill:none;fill-rule:evenodd;stroke:#000000;stroke-width:2.0px;stroke-linecap:butt;stroke-linejoin:miter;stroke-opacity:1\"/>\n<path class=\"bond-14 atom-13 atom-8\" d=\"M 197.9,122.0 L 236.2,138.0\" style=\"fill:none;fill-rule:evenodd;stroke:#000000;stroke-width:2.0px;stroke-linecap:butt;stroke-linejoin:miter;stroke-opacity:1\"/>\n<path class=\"bond-9 atom-9 atom-10\" d=\"M 269.2,112.9 L 263.9,71.8\" style=\"fill:none;fill-rule:evenodd;stroke:#000000;stroke-width:2.0px;stroke-linecap:butt;stroke-linejoin:miter;stroke-opacity:1\"/>\n<path class=\"bond-10 atom-10 atom-11\" d=\"M 263.9,71.8 L 225.7,55.8\" style=\"fill:none;fill-rule:evenodd;stroke:#000000;stroke-width:2.0px;stroke-linecap:butt;stroke-linejoin:miter;stroke-opacity:1\"/>\n<path class=\"bond-10 atom-10 atom-11\" d=\"M 255.0,77.0 L 228.2,65.8\" style=\"fill:none;fill-rule:evenodd;stroke:#000000;stroke-width:2.0px;stroke-linecap:butt;stroke-linejoin:miter;stroke-opacity:1\"/>\n<path class=\"bond-11 atom-11 atom-12\" d=\"M 225.7,55.8 L 192.7,80.9\" style=\"fill:none;fill-rule:evenodd;stroke:#000000;stroke-width:2.0px;stroke-linecap:butt;stroke-linejoin:miter;stroke-opacity:1\"/>\n<path class=\"bond-12 atom-12 atom-13\" d=\"M 192.7,80.9 L 197.9,122.0\" style=\"fill:none;fill-rule:evenodd;stroke:#000000;stroke-width:2.0px;stroke-linecap:butt;stroke-linejoin:miter;stroke-opacity:1\"/>\n<path class=\"bond-12 atom-12 atom-13\" d=\"M 201.7,86.0 L 205.4,114.8\" style=\"fill:none;fill-rule:evenodd;stroke:#000000;stroke-width:2.0px;stroke-linecap:butt;stroke-linejoin:miter;stroke-opacity:1\"/>\n<path class=\"atom-3\" d=\"M 66.5 67.7 L 68.2 67.7 L 68.2 73.1 L 74.8 73.1 L 74.8 67.7 L 76.5 67.7 L 76.5 80.4 L 74.8 80.4 L 74.8 74.6 L 68.2 74.6 L 68.2 80.4 L 66.5 80.4 L 66.5 67.7 \" fill=\"#FF0000\"/>\n<path class=\"atom-3\" d=\"M 77.4 74.0 Q 77.4 71.0, 78.9 69.3 Q 80.4 67.5, 83.2 67.5 Q 86.1 67.5, 87.6 69.3 Q 89.1 71.0, 89.1 74.0 Q 89.1 77.1, 87.6 78.9 Q 86.0 80.6, 83.2 80.6 Q 80.4 80.6, 78.9 78.9 Q 77.4 77.1, 77.4 74.0 M 83.2 79.2 Q 85.2 79.2, 86.2 77.9 Q 87.3 76.6, 87.3 74.0 Q 87.3 71.5, 86.2 70.3 Q 85.2 69.0, 83.2 69.0 Q 81.3 69.0, 80.2 70.2 Q 79.2 71.5, 79.2 74.0 Q 79.2 76.6, 80.2 77.9 Q 81.3 79.2, 83.2 79.2 \" fill=\"#FF0000\"/>\n<path d=\"M 88.5 290.8 Q 86.4 290.8, 85.4 289.3 Q 84.4 287.8, 84.4 285.0 Q 84.4 282.3, 85.4 280.8 Q 86.4 279.3, 88.5 279.3 Q 90.6 279.3, 91.6 280.8 Q 92.6 282.3, 92.6 285.0 Q 92.6 287.8, 91.6 289.3 Q 90.6 290.8, 88.5 290.8 M 88.5 289.6 Q 89.7 289.6, 90.4 288.4 Q 91.0 287.3, 91.0 285.0 Q 91.0 282.8, 90.4 281.7 Q 89.7 280.5, 88.5 280.5 Q 87.3 280.5, 86.6 281.7 Q 86.0 282.8, 86.0 285.0 Q 86.0 287.3, 86.6 288.4 Q 87.3 289.6, 88.5 289.6 \" fill=\"#000000\"/>\n<path d=\"M 93.7 289.1 L 95.3 289.1 L 95.3 290.7 L 93.7 290.7 L 93.7 289.1 \" fill=\"#000000\"/>\n<path d=\"M 100.4 290.8 Q 98.3 290.8, 97.3 289.3 Q 96.3 287.8, 96.3 285.0 Q 96.3 282.3, 97.3 280.8 Q 98.3 279.3, 100.4 279.3 Q 102.5 279.3, 103.5 280.8 Q 104.5 282.3, 104.5 285.0 Q 104.5 287.8, 103.5 289.3 Q 102.5 290.8, 100.4 290.8 M 100.4 289.6 Q 101.6 289.6, 102.3 288.4 Q 102.9 287.3, 102.9 285.0 Q 102.9 282.8, 102.3 281.7 Q 101.6 280.5, 100.4 280.5 Q 99.2 280.5, 98.5 281.7 Q 97.9 282.8, 97.9 285.0 Q 97.9 287.3, 98.5 288.4 Q 99.2 289.6, 100.4 289.6 \" fill=\"#000000\"/>\n<path d=\"M 109.7 290.8 Q 107.6 290.8, 106.5 289.3 Q 105.5 287.8, 105.5 285.0 Q 105.5 282.3, 106.5 280.8 Q 107.6 279.3, 109.7 279.3 Q 111.8 279.3, 112.8 280.8 Q 113.8 282.3, 113.8 285.0 Q 113.8 287.8, 112.8 289.3 Q 111.7 290.8, 109.7 290.8 M 109.7 289.6 Q 110.9 289.6, 111.6 288.4 Q 112.2 287.3, 112.2 285.0 Q 112.2 282.8, 111.6 281.7 Q 110.9 280.5, 109.7 280.5 Q 108.5 280.5, 107.8 281.7 Q 107.1 282.8, 107.1 285.0 Q 107.1 287.3, 107.8 288.4 Q 108.5 289.6, 109.7 289.6 \" fill=\"#000000\"/>\n<path d=\"\" fill=\"#000000\"/>\n<path d=\"M 119.2 290.7 L 119.2 278.6 L 120.7 278.6 L 120.7 290.7 L 119.2 290.7 M 122.7 286.0 L 126.2 290.7 L 124.4 290.7 L 120.9 286.0 L 123.9 282.5 L 125.6 282.5 L 122.7 286.0 \" fill=\"#000000\"/>\n<path d=\"M 126.5 291.7 Q 126.5 291.8, 127.2 291.4 Q 127.9 291.0, 128.5 290.3 Q 129.1 289.6, 129.1 288.8 L 129.1 280.7 L 126.8 280.7 L 126.8 279.4 L 130.6 279.4 L 130.6 288.8 Q 130.6 290.1, 129.8 291.0 Q 129.1 291.9, 128.1 292.5 Q 127.2 293.0, 127.2 292.9 L 126.5 291.7 \" fill=\"#000000\"/>\n<path d=\"M 135.0 278.8 L 136.3 278.8 L 132.2 291.7 L 130.9 291.7 L 135.0 278.8 \" fill=\"#000000\"/>\n<path d=\"M 147.2 282.4 Q 148.5 282.4, 149.3 283.1 Q 150.0 283.8, 150.0 285.3 L 150.0 290.7 L 148.5 290.7 L 148.5 285.4 Q 148.5 284.4, 148.1 284.0 Q 147.7 283.5, 146.9 283.5 Q 146.1 283.5, 145.5 283.9 Q 144.9 284.2, 144.5 284.8 Q 144.6 285.0, 144.6 285.3 L 144.6 290.7 L 143.1 290.7 L 143.1 285.4 Q 143.1 284.4, 142.7 284.0 Q 142.3 283.5, 141.5 283.5 Q 140.8 283.5, 140.1 283.9 Q 139.5 284.2, 139.2 284.8 L 139.2 290.7 L 137.7 290.7 L 137.7 282.5 L 138.9 282.5 L 139.0 283.6 Q 140.1 282.4, 141.8 282.4 Q 143.7 282.4, 144.3 283.8 Q 145.4 282.4, 147.2 282.4 \" fill=\"#000000\"/>\n<path d=\"M 150.7 286.6 Q 150.7 284.6, 151.7 283.5 Q 152.7 282.4, 154.6 282.4 Q 156.5 282.4, 157.5 283.5 Q 158.5 284.6, 158.5 286.6 Q 158.5 288.6, 157.5 289.7 Q 156.5 290.8, 154.6 290.8 Q 152.7 290.8, 151.7 289.7 Q 150.7 288.6, 150.7 286.6 M 152.2 286.6 Q 152.2 288.1, 152.8 288.9 Q 153.5 289.7, 154.6 289.7 Q 155.7 289.7, 156.3 288.9 Q 157.0 288.1, 157.0 286.6 Q 157.0 285.1, 156.3 284.3 Q 155.7 283.5, 154.6 283.5 Q 153.5 283.5, 152.8 284.3 Q 152.2 285.1, 152.2 286.6 \" fill=\"#000000\"/>\n<path d=\"M 159.9 278.6 L 161.3 278.6 L 161.3 290.7 L 159.9 290.7 L 159.9 278.6 \" fill=\"#000000\"/>\n<path d=\"\" fill=\"#000000\"/>\n<path d=\"M 166.7 278.3 L 170.1 278.3 L 170.1 279.5 L 168.1 279.5 L 168.1 292.7 L 170.1 292.7 L 170.1 293.8 L 166.7 293.8 L 166.7 278.3 \" fill=\"#000000\"/>\n<path d=\"M 176.2 284.8 Q 177.3 285.1, 177.9 285.8 Q 178.4 286.5, 178.4 287.6 Q 178.4 288.6, 177.9 289.3 Q 177.4 290.1, 176.6 290.5 Q 175.7 290.9, 174.5 290.9 Q 173.3 290.9, 172.4 290.5 Q 171.5 290.0, 170.8 289.2 L 171.7 288.2 Q 172.4 289.0, 173.0 289.3 Q 173.6 289.6, 174.5 289.6 Q 175.6 289.6, 176.2 289.1 Q 176.8 288.5, 176.8 287.6 Q 176.8 286.4, 176.1 285.9 Q 175.5 285.4, 174.1 285.4 L 173.3 285.4 L 173.3 284.3 L 174.0 284.3 Q 175.3 284.2, 175.9 283.7 Q 176.6 283.2, 176.6 282.2 Q 176.6 281.4, 176.0 281.0 Q 175.5 280.5, 174.5 280.5 Q 173.6 280.5, 173.0 280.9 Q 172.4 281.2, 172.0 282.1 L 170.9 281.5 Q 171.3 280.5, 172.2 279.9 Q 173.2 279.3, 174.5 279.3 Q 176.2 279.3, 177.2 280.0 Q 178.2 280.8, 178.2 282.2 Q 178.2 283.1, 177.7 283.7 Q 177.2 284.4, 176.2 284.8 \" fill=\"#000000\"/>\n<path d=\"M 186.6 278.6 L 186.6 290.7 L 185.4 290.7 L 185.2 289.7 Q 184.3 290.8, 182.8 290.8 Q 181.0 290.8, 180.1 289.8 Q 179.1 288.7, 179.1 286.7 Q 179.1 284.7, 180.3 283.5 Q 181.4 282.4, 183.4 282.4 Q 184.2 282.4, 185.1 282.6 L 185.1 278.6 L 186.6 278.6 M 182.9 289.7 Q 183.7 289.7, 184.3 289.2 Q 184.9 288.8, 185.1 287.9 L 185.1 283.8 Q 184.3 283.5, 183.4 283.5 Q 182.1 283.5, 181.4 284.4 Q 180.7 285.2, 180.7 286.7 Q 180.7 288.1, 181.2 288.9 Q 181.8 289.7, 182.9 289.7 \" fill=\"#000000\"/>\n<path d=\"M 194.8 291.5 L 194.8 292.8 L 186.6 292.8 L 186.6 291.5 L 194.8 291.5 \" fill=\"#000000\"/>\n<path d=\"M 199.6 283.6 Q 200.6 283.6, 201.4 284.1 Q 202.2 284.5, 202.7 285.3 Q 203.2 286.1, 203.2 287.1 Q 203.2 288.3, 202.6 289.2 Q 202.0 290.0, 201.1 290.4 Q 200.2 290.8, 199.1 290.8 Q 198.1 290.8, 197.1 290.5 Q 196.2 290.1, 195.5 289.3 L 196.5 288.4 Q 197.0 288.9, 197.7 289.2 Q 198.4 289.6, 199.2 289.6 Q 200.2 289.6, 200.9 288.9 Q 201.6 288.3, 201.6 287.2 Q 201.6 286.0, 200.9 285.4 Q 200.2 284.8, 199.1 284.8 Q 198.1 284.8, 197.0 285.3 L 196.1 284.8 L 196.6 279.4 L 202.5 279.4 L 202.3 280.7 L 198.0 280.7 L 197.6 284.0 Q 198.6 283.6, 199.6 283.6 \" fill=\"#000000\"/>\n<path d=\"M 206.9 278.3 L 206.9 293.8 L 203.5 293.8 L 203.5 292.7 L 205.6 292.7 L 205.6 279.5 L 203.5 279.5 L 203.5 278.3 L 206.9 278.3 \" fill=\"#000000\"/>\n<path class=\"bond-0 atom-0 atom-1\" d=\"M 335.9,111.6 L 351.7,105.1\" style=\"fill:none;fill-rule:evenodd;stroke:#FF0000;stroke-width:2.0px;stroke-linecap:butt;stroke-linejoin:miter;stroke-opacity:1\"/>\n<path class=\"bond-0 atom-0 atom-1\" d=\"M 351.7,105.1 L 367.4,98.7\" style=\"fill:none;fill-rule:evenodd;stroke:#000000;stroke-width:2.0px;stroke-linecap:butt;stroke-linejoin:miter;stroke-opacity:1\"/>\n<path class=\"bond-1 atom-1 atom-2\" d=\"M 367.4,98.7 L 400.2,124.0\" style=\"fill:none;fill-rule:evenodd;stroke:#000000;stroke-width:2.0px;stroke-linecap:butt;stroke-linejoin:miter;stroke-opacity:1\"/>\n<path class=\"bond-2 atom-2 atom-3\" d=\"M 401.8,127.9 L 437.0,104.5\" style=\"fill:none;fill-rule:evenodd;stroke:#000000;stroke-width:2.0px;stroke-linecap:butt;stroke-linejoin:miter;stroke-opacity:1\"/>\n<path class=\"bond-2 atom-2 atom-3\" d=\"M 398.6,120.2 L 440.1,112.1\" style=\"fill:none;fill-rule:evenodd;stroke:#000000;stroke-width:2.0px;stroke-linecap:butt;stroke-linejoin:miter;stroke-opacity:1\"/>\n<path class=\"bond-3 atom-3 atom-4\" d=\"M 438.5,108.3 L 471.3,133.6\" style=\"fill:none;fill-rule:evenodd;stroke:#000000;stroke-width:2.0px;stroke-linecap:butt;stroke-linejoin:miter;stroke-opacity:1\"/>\n<path class=\"bond-4 atom-4 atom-5\" d=\"M 471.3,133.6 L 465.8,174.7\" style=\"fill:none;fill-rule:evenodd;stroke:#000000;stroke-width:2.0px;stroke-linecap:butt;stroke-linejoin:miter;stroke-opacity:1\"/>\n<path class=\"bond-4 atom-4 atom-5\" d=\"M 478.7,140.9 L 474.8,169.7\" style=\"fill:none;fill-rule:evenodd;stroke:#000000;stroke-width:2.0px;stroke-linecap:butt;stroke-linejoin:miter;stroke-opacity:1\"/>\n<path class=\"bond-13 atom-13 atom-4\" d=\"M 509.7,117.9 L 471.3,133.6\" style=\"fill:none;fill-rule:evenodd;stroke:#000000;stroke-width:2.0px;stroke-linecap:butt;stroke-linejoin:miter;stroke-opacity:1\"/>\n<path class=\"bond-5 atom-5 atom-6\" d=\"M 465.8,174.7 L 498.6,200.1\" style=\"fill:none;fill-rule:evenodd;stroke:#000000;stroke-width:2.0px;stroke-linecap:butt;stroke-linejoin:miter;stroke-opacity:1\"/>\n<path class=\"bond-6 atom-6 atom-7\" d=\"M 498.6,200.1 L 536.9,184.3\" style=\"fill:none;fill-rule:evenodd;stroke:#000000;stroke-width:2.0px;stroke-linecap:butt;stroke-linejoin:miter;stroke-opacity:1\"/>\n<path class=\"bond-6 atom-6 atom-7\" d=\"M 501.2,190.0 L 528.0,179.0\" style=\"fill:none;fill-rule:evenodd;stroke:#000000;stroke-width:2.0px;stroke-linecap:butt;stroke-linejoin:miter;stroke-opacity:1\"/>\n<path class=\"bond-7 atom-7 atom-8\" d=\"M 536.9,184.3 L 542.5,143.3\" style=\"fill:none;fill-rule:evenodd;stroke:#000000;stroke-width:2.0px;stroke-linecap:butt;stroke-linejoin:miter;stroke-opacity:1\"/>\n<path class=\"bond-8 atom-8 atom-9\" d=\"M 542.5,143.3 L 580.8,127.5\" style=\"fill:none;fill-rule:evenodd;stroke:#000000;stroke-width:2.0px;stroke-linecap:butt;stroke-linejoin:miter;stroke-opacity:1\"/>\n<path class=\"bond-8 atom-8 atom-9\" d=\"M 545.1,133.2 L 571.9,122.2\" style=\"fill:none;fill-rule:evenodd;stroke:#000000;stroke-width:2.0px;stroke-linecap:butt;stroke-linejoin:miter;stroke-opacity:1\"/>\n<path class=\"bond-14 atom-13 atom-8\" d=\"M 509.7,117.9 L 542.5,143.3\" style=\"fill:none;fill-rule:evenodd;stroke:#000000;stroke-width:2.0px;stroke-linecap:butt;stroke-linejoin:miter;stroke-opacity:1\"/>\n<path class=\"bond-9 atom-9 atom-10\" d=\"M 580.8,127.5 L 586.4,86.5\" style=\"fill:none;fill-rule:evenodd;stroke:#000000;stroke-width:2.0px;stroke-linecap:butt;stroke-linejoin:miter;stroke-opacity:1\"/>\n<path class=\"bond-10 atom-10 atom-11\" d=\"M 586.4,86.5 L 553.6,61.1\" style=\"fill:none;fill-rule:evenodd;stroke:#000000;stroke-width:2.0px;stroke-linecap:butt;stroke-linejoin:miter;stroke-opacity:1\"/>\n<path class=\"bond-10 atom-10 atom-11\" d=\"M 576.4,89.2 L 553.4,71.5\" style=\"fill:none;fill-rule:evenodd;stroke:#000000;stroke-width:2.0px;stroke-linecap:butt;stroke-linejoin:miter;stroke-opacity:1\"/>\n<path class=\"bond-11 atom-11 atom-12\" d=\"M 553.6,61.1 L 515.2,76.8\" style=\"fill:none;fill-rule:evenodd;stroke:#000000;stroke-width:2.0px;stroke-linecap:butt;stroke-linejoin:miter;stroke-opacity:1\"/>\n<path class=\"bond-12 atom-12 atom-13\" d=\"M 515.2,76.8 L 509.7,117.9\" style=\"fill:none;fill-rule:evenodd;stroke:#000000;stroke-width:2.0px;stroke-linecap:butt;stroke-linejoin:miter;stroke-opacity:1\"/>\n<path class=\"bond-12 atom-12 atom-13\" d=\"M 522.6,84.1 L 518.7,112.9\" style=\"fill:none;fill-rule:evenodd;stroke:#000000;stroke-width:2.0px;stroke-linecap:butt;stroke-linejoin:miter;stroke-opacity:1\"/>\n<path class=\"atom-0\" d=\"M 312.3 108.1 L 314.0 108.1 L 314.0 113.5 L 320.6 113.5 L 320.6 108.1 L 322.3 108.1 L 322.3 120.9 L 320.6 120.9 L 320.6 115.0 L 314.0 115.0 L 314.0 120.9 L 312.3 120.9 L 312.3 108.1 \" fill=\"#FF0000\"/>\n<path class=\"atom-0\" d=\"M 323.2 114.5 Q 323.2 111.4, 324.7 109.7 Q 326.2 108.0, 329.0 108.0 Q 331.9 108.0, 333.4 109.7 Q 334.9 111.4, 334.9 114.5 Q 334.9 117.6, 333.4 119.3 Q 331.8 121.1, 329.0 121.1 Q 326.2 121.1, 324.7 119.3 Q 323.2 117.6, 323.2 114.5 M 329.0 119.6 Q 331.0 119.6, 332.0 118.3 Q 333.1 117.0, 333.1 114.5 Q 333.1 112.0, 332.0 110.7 Q 331.0 109.4, 329.0 109.4 Q 327.1 109.4, 326.0 110.7 Q 325.0 111.9, 325.0 114.5 Q 325.0 117.0, 326.0 118.3 Q 327.1 119.6, 329.0 119.6 \" fill=\"#FF0000\"/>\n<path d=\"M 387.1 286.8 L 388.5 286.8 L 388.5 288.1 L 387.1 288.1 L 387.1 290.7 L 385.6 290.7 L 385.6 288.1 L 379.8 288.1 L 379.8 287.1 L 384.7 279.4 L 387.1 279.4 L 387.1 286.8 M 381.6 286.8 L 385.6 286.8 L 385.6 280.4 L 381.6 286.8 \" fill=\"#000000\"/>\n<path d=\"M 396.3 286.8 L 397.7 286.8 L 397.7 288.1 L 396.3 288.1 L 396.3 290.7 L 394.8 290.7 L 394.8 288.1 L 389.0 288.1 L 389.0 287.1 L 393.9 279.4 L 396.3 279.4 L 396.3 286.8 M 390.8 286.8 L 394.8 286.8 L 394.8 280.4 L 390.8 286.8 \" fill=\"#000000\"/>\n<path d=\"M 398.7 289.1 L 400.3 289.1 L 400.3 290.7 L 398.7 290.7 L 398.7 289.1 \" fill=\"#000000\"/>\n<path d=\"M 405.2 283.6 Q 406.2 283.6, 407.0 284.1 Q 407.8 284.5, 408.2 285.3 Q 408.7 286.1, 408.7 287.1 Q 408.7 288.3, 408.1 289.2 Q 407.6 290.0, 406.6 290.4 Q 405.7 290.8, 404.7 290.8 Q 403.6 290.8, 402.7 290.5 Q 401.7 290.1, 401.0 289.3 L 402.0 288.4 Q 402.5 288.9, 403.3 289.2 Q 404.0 289.6, 404.7 289.6 Q 405.7 289.6, 406.4 288.9 Q 407.1 288.3, 407.1 287.2 Q 407.1 286.0, 406.4 285.4 Q 405.7 284.8, 404.6 284.8 Q 403.6 284.8, 402.5 285.3 L 401.6 284.8 L 402.2 279.4 L 408.0 279.4 L 407.8 280.7 L 403.5 280.7 L 403.2 284.0 Q 404.2 283.6, 405.2 283.6 \" fill=\"#000000\"/>\n<path d=\"M 409.5 281.5 Q 410.0 280.5, 411.0 279.9 Q 411.9 279.3, 413.3 279.3 Q 415.0 279.3, 416.0 280.2 Q 417.0 281.1, 417.0 282.8 Q 417.0 284.4, 415.7 286.0 Q 414.5 287.6, 411.9 289.4 L 417.1 289.4 L 417.1 290.7 L 409.5 290.7 L 409.5 289.6 Q 411.6 288.1, 412.9 287.0 Q 414.1 285.9, 414.7 284.9 Q 415.4 283.9, 415.4 282.8 Q 415.4 281.8, 414.8 281.2 Q 414.3 280.5, 413.3 280.5 Q 412.4 280.5, 411.8 280.9 Q 411.2 281.3, 410.8 282.1 L 409.5 281.5 \" fill=\"#000000\"/>\n<path d=\"\" fill=\"#000000\"/>\n<path d=\"M 422.5 290.7 L 422.5 278.6 L 424.0 278.6 L 424.0 290.7 L 422.5 290.7 M 426.0 286.0 L 429.5 290.7 L 427.7 290.7 L 424.3 286.0 L 427.2 282.5 L 428.9 282.5 L 426.0 286.0 \" fill=\"#000000\"/>\n<path d=\"M 429.9 291.7 Q 429.9 291.8, 430.6 291.4 Q 431.3 291.0, 431.8 290.3 Q 432.4 289.6, 432.4 288.8 L 432.4 280.7 L 430.2 280.7 L 430.2 279.4 L 433.9 279.4 L 433.9 288.8 Q 433.9 290.1, 433.1 291.0 Q 432.4 291.9, 431.4 292.5 Q 430.5 293.0, 430.5 292.9 L 429.9 291.7 \" fill=\"#000000\"/>\n<path d=\"M 438.4 278.8 L 439.7 278.8 L 435.6 291.7 L 434.2 291.7 L 438.4 278.8 \" fill=\"#000000\"/>\n<path d=\"M 450.5 282.4 Q 451.9 282.4, 452.6 283.1 Q 453.3 283.8, 453.3 285.3 L 453.3 290.7 L 451.8 290.7 L 451.8 285.4 Q 451.8 284.4, 451.4 284.0 Q 451.0 283.5, 450.2 283.5 Q 449.5 283.5, 448.9 283.9 Q 448.2 284.2, 447.9 284.8 Q 447.9 285.0, 447.9 285.3 L 447.9 290.7 L 446.4 290.7 L 446.4 285.4 Q 446.4 284.4, 446.0 284.0 Q 445.6 283.5, 444.8 283.5 Q 444.1 283.5, 443.5 283.9 Q 442.9 284.2, 442.5 284.8 L 442.5 290.7 L 441.0 290.7 L 441.0 282.5 L 442.2 282.5 L 442.4 283.6 Q 443.4 282.4, 445.1 282.4 Q 447.0 282.4, 447.6 283.8 Q 448.7 282.4, 450.5 282.4 \" fill=\"#000000\"/>\n<path d=\"M 454.0 286.6 Q 454.0 284.6, 455.0 283.5 Q 456.1 282.4, 457.9 282.4 Q 459.8 282.4, 460.8 283.5 Q 461.8 284.6, 461.8 286.6 Q 461.8 288.6, 460.8 289.7 Q 459.8 290.8, 457.9 290.8 Q 456.1 290.8, 455.0 289.7 Q 454.0 288.6, 454.0 286.6 M 455.6 286.6 Q 455.6 288.1, 456.2 288.9 Q 456.8 289.7, 457.9 289.7 Q 459.1 289.7, 459.7 288.9 Q 460.3 288.1, 460.3 286.6 Q 460.3 285.1, 459.7 284.3 Q 459.1 283.5, 457.9 283.5 Q 456.8 283.5, 456.2 284.3 Q 455.6 285.1, 455.6 286.6 \" fill=\"#000000\"/>\n<path d=\"M 463.2 278.6 L 464.7 278.6 L 464.7 290.7 L 463.2 290.7 L 463.2 278.6 \" fill=\"#000000\"/>\n<path d=\"\" fill=\"#000000\"/>\n<path d=\"M 470.0 278.3 L 473.4 278.3 L 473.4 279.5 L 471.4 279.5 L 471.4 292.7 L 473.4 292.7 L 473.4 293.8 L 470.0 293.8 L 470.0 278.3 \" fill=\"#000000\"/>\n<path d=\"M 479.6 284.8 Q 480.7 285.1, 481.2 285.8 Q 481.7 286.5, 481.7 287.6 Q 481.7 288.6, 481.3 289.3 Q 480.8 290.1, 479.9 290.5 Q 479.0 290.9, 477.9 290.9 Q 476.6 290.9, 475.7 290.5 Q 474.8 290.0, 474.1 289.2 L 475.0 288.2 Q 475.7 289.0, 476.3 289.3 Q 476.9 289.6, 477.9 289.6 Q 478.9 289.6, 479.5 289.1 Q 480.1 288.5, 480.1 287.6 Q 480.1 286.4, 479.5 285.9 Q 478.8 285.4, 477.4 285.4 L 476.6 285.4 L 476.6 284.3 L 477.4 284.3 Q 478.6 284.2, 479.2 283.7 Q 479.9 283.2, 479.9 282.2 Q 479.9 281.4, 479.4 281.0 Q 478.8 280.5, 477.9 280.5 Q 476.9 280.5, 476.3 280.9 Q 475.8 281.2, 475.3 282.1 L 474.2 281.5 Q 474.6 280.5, 475.6 279.9 Q 476.5 279.3, 477.9 279.3 Q 479.5 279.3, 480.5 280.0 Q 481.5 280.8, 481.5 282.2 Q 481.5 283.1, 481.0 283.7 Q 480.5 284.4, 479.6 284.8 \" fill=\"#000000\"/>\n<path d=\"M 489.9 278.6 L 489.9 290.7 L 488.7 290.7 L 488.5 289.7 Q 487.6 290.8, 486.1 290.8 Q 484.4 290.8, 483.4 289.8 Q 482.5 288.7, 482.5 286.7 Q 482.5 284.7, 483.6 283.5 Q 484.7 282.4, 486.7 282.4 Q 487.5 282.4, 488.4 282.6 L 488.4 278.6 L 489.9 278.6 M 486.2 289.7 Q 487.0 289.7, 487.6 289.2 Q 488.2 288.8, 488.4 287.9 L 488.4 283.8 Q 487.6 283.5, 486.7 283.5 Q 485.4 283.5, 484.7 284.4 Q 484.0 285.2, 484.0 286.7 Q 484.0 288.1, 484.6 288.9 Q 485.1 289.7, 486.2 289.7 \" fill=\"#000000\"/>\n<path d=\"M 498.1 291.5 L 498.1 292.8 L 489.9 292.8 L 489.9 291.5 L 498.1 291.5 \" fill=\"#000000\"/>\n<path d=\"M 503.6 283.6 Q 504.6 283.6, 505.4 284.1 Q 506.2 284.5, 506.6 285.3 Q 507.0 286.1, 507.0 287.1 Q 507.0 288.2, 506.6 289.0 Q 506.1 289.9, 505.2 290.4 Q 504.3 290.8, 503.2 290.8 Q 501.2 290.8, 500.2 289.5 Q 499.2 288.1, 499.2 285.4 Q 499.2 282.4, 500.4 280.8 Q 501.7 279.3, 504.1 279.3 Q 504.8 279.3, 505.4 279.4 Q 506.0 279.6, 506.6 279.9 L 506.0 281.0 Q 505.1 280.5, 504.1 280.5 Q 502.5 280.5, 501.7 281.6 Q 500.9 282.6, 500.8 284.7 Q 501.4 284.2, 502.1 283.9 Q 502.8 283.6, 503.6 283.6 M 503.3 289.5 Q 503.9 289.5, 504.4 289.2 Q 504.9 288.9, 505.2 288.3 Q 505.4 287.8, 505.4 287.1 Q 505.4 286.1, 504.9 285.5 Q 504.3 284.9, 503.3 284.9 Q 502.6 284.9, 502.0 285.2 Q 501.3 285.5, 500.8 286.0 Q 500.9 287.8, 501.5 288.7 Q 502.1 289.5, 503.3 289.5 \" fill=\"#000000\"/>\n<path d=\"M 510.8 278.3 L 510.8 293.8 L 507.4 293.8 L 507.4 292.7 L 509.4 292.7 L 509.4 279.5 L 507.4 279.5 L 507.4 278.3 L 510.8 278.3 \" fill=\"#000000\"/>\n</svg>",
      "text/plain": [
       "<IPython.core.display.SVG object>"
      ]
     },
     "metadata": {},
     "output_type": "display_data"
    }
   ],
   "source": [
    "for idx, row in df.iterrows():\n",
    "    rxn_id = row['Reaction ID']\n",
    "    \n",
    "    # show only results of \"3d\"\n",
    "    if rxn_id != '3d':\n",
    "        continue\n",
    "\n",
    "    # Neutral\n",
    "    xtb_one_all_names_neu = row.xtb_one_all_names_neu\n",
    "    xtb_one_all_products_neu = row.xtb_one_all_products_neu\n",
    "    xtb_energies_neu = row.xtb_energies_neu\n",
    "    one_energies_neu = row.one_energies_neu\n",
    "    all_energies_neu = row.all_energies_neu\n",
    "\n",
    "    # Cationic\n",
    "    xtb_one_all_names_cat = row.xtb_one_all_names_cat\n",
    "    xtb_one_all_products_cat = row.xtb_one_all_products_cat\n",
    "    xtb_energies_cat = row.xtb_energies_cat\n",
    "    one_energies_cat = row.one_energies_cat\n",
    "    all_energies_cat = row.all_energies_cat\n",
    "\n",
    "    names_list = [xtb_one_all_names_neu, xtb_one_all_names_neu, xtb_one_all_names_neu, xtb_one_all_names_cat, xtb_one_all_names_cat, xtb_one_all_names_cat]\n",
    "    products_list = [xtb_one_all_products_neu, xtb_one_all_products_neu, xtb_one_all_products_neu, xtb_one_all_products_cat, xtb_one_all_products_cat, xtb_one_all_products_cat]\n",
    "    energies_list = [xtb_energies_neu, one_energies_neu, all_energies_neu, xtb_energies_cat, one_energies_cat, all_energies_cat]\n",
    "    method_list = ['xTB neutral pathway', 'DFT (one) neutral pathway', 'DFT (all) neutral pathway', 'xTB cationic pathway', 'DFT (one) cationic pathway', 'DFT (all) cationic pathway']\n",
    "    for names, products, energies, method in zip(names_list, products_list, energies_list, method_list):\n",
    "\n",
    "        if method not in ['DFT (all) neutral pathway', 'DFT (all) cationic pathway']:\n",
    "            continue\n",
    "    \n",
    "        legends = [f'{energy - min(energies):.2f} kJ/mol [{\"_\".join(name.split(\"_\")[:2])}]' for name, energy in zip(names, energies)]\n",
    "    \n",
    "        # Sort lists (energies, products, and legends) according to the energies in ascending order\n",
    "        all_lists = list(zip(energies, products, legends))\n",
    "        all_lists = sorted(all_lists, key=itemgetter(0))\n",
    "        energies = [item[0] for item in all_lists]\n",
    "        products = [item[1] for item in all_lists]\n",
    "        legends = [item[2] for item in all_lists]\n",
    "\n",
    "        # Extract only unique products\n",
    "        smiless = [Chem.MolToSmiles(m, isomericSmiles=False) for m in products]\n",
    "        indexes = np.unique(smiless, return_index=True)[1]\n",
    "        energies = [energies[index] for index in sorted(indexes)]\n",
    "        products = [products[index] for index in sorted(indexes)]\n",
    "        legends = [legends[index] for index in sorted(indexes)]\n",
    "\n",
    "        # # Extract only products within the cutoff\n",
    "        # products_within_cutoff = len(np.where(np.array(energies) - min(energies) <= cutoff)[0])\n",
    "        # energies = energies[:products_within_cutoff]\n",
    "        # products = products[:products_within_cutoff]\n",
    "        # legends = legends[:products_within_cutoff]\n",
    "        \n",
    "        print(method)\n",
    "        display(Chem.Draw.MolsToGridImage(products, legends=legends, molsPerRow=4, subImgSize=(300,300), useSVG=True))"
   ]
  },
  {
   "cell_type": "code",
   "execution_count": null,
   "metadata": {},
   "outputs": [],
   "source": []
  }
 ],
 "metadata": {
  "kernelspec": {
   "display_name": "Python 3.9.1 ('heckpredictor')",
   "language": "python",
   "name": "python3"
  },
  "language_info": {
   "codemirror_mode": {
    "name": "ipython",
    "version": 3
   },
   "file_extension": ".py",
   "mimetype": "text/x-python",
   "name": "python",
   "nbconvert_exporter": "python",
   "pygments_lexer": "ipython3",
   "version": "3.9.1"
  },
  "orig_nbformat": 4,
  "vscode": {
   "interpreter": {
    "hash": "02fa88640c2300b8c1b809d416bf688fec697e6551bc923ae0ddcfbbda454689"
   }
  }
 },
 "nbformat": 4,
 "nbformat_minor": 2
}
